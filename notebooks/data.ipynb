{
 "cells": [
  {
   "cell_type": "code",
   "execution_count": 23,
   "id": "af629238",
   "metadata": {},
   "outputs": [
    {
     "name": "stdout",
     "output_type": "stream",
     "text": [
      "Nombre d'entreprises récupérées : 10\n",
      "Colonnes dans le DataFrame : Index(['siren', 'nic', 'siret', 'statutDiffusionEtablissement',\n",
      "       'dateCreationEtablissement', 'trancheEffectifsEtablissement',\n",
      "       'anneeEffectifsEtablissement',\n",
      "       'activitePrincipaleRegistreMetiersEtablissement',\n",
      "       'dateDernierTraitementEtablissement', 'etablissementSiege',\n",
      "       'nombrePeriodesEtablissement', 'periodesEtablissement',\n",
      "       'uniteLegale.etatAdministratifUniteLegale',\n",
      "       'uniteLegale.statutDiffusionUniteLegale',\n",
      "       'uniteLegale.unitePurgeeUniteLegale',\n",
      "       'uniteLegale.dateCreationUniteLegale',\n",
      "       'uniteLegale.categorieJuridiqueUniteLegale',\n",
      "       'uniteLegale.denominationUniteLegale', 'uniteLegale.sigleUniteLegale',\n",
      "       'uniteLegale.denominationUsuelle1UniteLegale',\n",
      "       'uniteLegale.denominationUsuelle2UniteLegale',\n",
      "       'uniteLegale.denominationUsuelle3UniteLegale',\n",
      "       'uniteLegale.sexeUniteLegale', 'uniteLegale.nomUniteLegale',\n",
      "       'uniteLegale.nomUsageUniteLegale', 'uniteLegale.prenom1UniteLegale',\n",
      "       'uniteLegale.prenom2UniteLegale', 'uniteLegale.prenom3UniteLegale',\n",
      "       'uniteLegale.prenom4UniteLegale', 'uniteLegale.prenomUsuelUniteLegale',\n",
      "       'uniteLegale.pseudonymeUniteLegale',\n",
      "       'uniteLegale.activitePrincipaleUniteLegale',\n",
      "       'uniteLegale.nomenclatureActivitePrincipaleUniteLegale',\n",
      "       'uniteLegale.identifiantAssociationUniteLegale',\n",
      "       'uniteLegale.economieSocialeSolidaireUniteLegale',\n",
      "       'uniteLegale.societeMissionUniteLegale',\n",
      "       'uniteLegale.caractereEmployeurUniteLegale',\n",
      "       'uniteLegale.trancheEffectifsUniteLegale',\n",
      "       'uniteLegale.anneeEffectifsUniteLegale',\n",
      "       'uniteLegale.nicSiegeUniteLegale',\n",
      "       'uniteLegale.dateDernierTraitementUniteLegale',\n",
      "       'uniteLegale.categorieEntreprise',\n",
      "       'uniteLegale.anneeCategorieEntreprise',\n",
      "       'adresseEtablissement.complementAdresseEtablissement',\n",
      "       'adresseEtablissement.numeroVoieEtablissement',\n",
      "       'adresseEtablissement.indiceRepetitionEtablissement',\n",
      "       'adresseEtablissement.dernierNumeroVoieEtablissement',\n",
      "       'adresseEtablissement.indiceRepetitionDernierNumeroVoieEtablissement',\n",
      "       'adresseEtablissement.typeVoieEtablissement',\n",
      "       'adresseEtablissement.libelleVoieEtablissement',\n",
      "       'adresseEtablissement.codePostalEtablissement',\n",
      "       'adresseEtablissement.libelleCommuneEtablissement',\n",
      "       'adresseEtablissement.libelleCommuneEtrangerEtablissement',\n",
      "       'adresseEtablissement.distributionSpecialeEtablissement',\n",
      "       'adresseEtablissement.codeCommuneEtablissement',\n",
      "       'adresseEtablissement.codeCedexEtablissement',\n",
      "       'adresseEtablissement.libelleCedexEtablissement',\n",
      "       'adresseEtablissement.codePaysEtrangerEtablissement',\n",
      "       'adresseEtablissement.libellePaysEtrangerEtablissement',\n",
      "       'adresseEtablissement.identifiantAdresseEtablissement',\n",
      "       'adresseEtablissement.coordonneeLambertAbscisseEtablissement',\n",
      "       'adresseEtablissement.coordonneeLambertOrdonneeEtablissement',\n",
      "       'adresse2Etablissement.complementAdresse2Etablissement',\n",
      "       'adresse2Etablissement.numeroVoie2Etablissement',\n",
      "       'adresse2Etablissement.indiceRepetition2Etablissement',\n",
      "       'adresse2Etablissement.typeVoie2Etablissement',\n",
      "       'adresse2Etablissement.libelleVoie2Etablissement',\n",
      "       'adresse2Etablissement.codePostal2Etablissement',\n",
      "       'adresse2Etablissement.libelleCommune2Etablissement',\n",
      "       'adresse2Etablissement.libelleCommuneEtranger2Etablissement',\n",
      "       'adresse2Etablissement.distributionSpeciale2Etablissement',\n",
      "       'adresse2Etablissement.codeCommune2Etablissement',\n",
      "       'adresse2Etablissement.codeCedex2Etablissement',\n",
      "       'adresse2Etablissement.libelleCedex2Etablissement',\n",
      "       'adresse2Etablissement.codePaysEtranger2Etablissement',\n",
      "       'adresse2Etablissement.libellePaysEtranger2Etablissement'],\n",
      "      dtype='object')\n"
     ]
    }
   ],
   "source": [
    "import requests\n",
    "import pandas as pd\n",
    "from sqlalchemy import create_engine\n",
    "\n",
    "# --------------------\n",
    "# Paramètres API SIRENE\n",
    "# --------------------\n",
    "api_url = \"https://api.insee.fr/api-sirene/3.11/siret\"  \n",
    "api_key = \"2c6da094-b893-415a-ada0-94b893115aea\"      \n",
    "\n",
    "headers = {\n",
    "    \"X-INSEE-Api-Key-Integration\": api_key\n",
    "}\n",
    "\n",
    "params = {\n",
    "    \"q\": \"codePostalEtablissement:13100\",\n",
    "    \"nombre\": 10\n",
    "}\n",
    "\n",
    "response = requests.get(api_url, headers=headers, params=params)\n",
    "\n",
    "\n",
    "if response.status_code != 200:\n",
    "    print(\"Erreur API :\", response.status_code, response.text)\n",
    "    data = {\"etablissements\": []}\n",
    "else:\n",
    "    data = response.json()\n",
    "    print(\"Nombre d'entreprises récupérées :\", len(data.get('etablissements', [])))\n",
    "\n",
    "df = pd.json_normalize(data.get('etablissements', []), sep='.')\n",
    "\n",
    "print(\"Colonnes dans le DataFrame :\", df.columns)\n",
    "\n",
    "colonnes_a_garder = [\n",
    "    'siren',\n",
    "    'uniteLegale.denominationUniteLegale',\n",
    "    'uniteLegale.activitePrincipaleUniteLegale',\n",
    "    'uniteLegale.categorieEntreprise.libelle',\n",
    "    'uniteLegale.dateCreationUniteLegale',\n",
    "    'uniteLegale.formeJuridiqueUniteLegale',\n",
    "    'uniteLegale.trancheEffectifsUniteLegale',\n",
    "    'adresseEtablissement.adresseLigne1',\n",
    "    'adresseEtablissement.codePostal',\n",
    "    'adresseEtablissement.libelleCommune',\n",
    "    'adresseEtablissement.region'\n",
    "]\n",
    "\n",
    "# Garder seulement les colonnes existantes pour éviter KeyError\n",
    "colonnes_existantes = [c for c in colonnes_a_garder if c in df.columns]\n",
    "df_sql = df[colonnes_existantes]\n",
    "\n",
    "# Renommer les colonnes pour correspondre à ta table SQL\n",
    "df_sql.columns = [\n",
    "    'siren', 'denomination', 'naf_code', 'secteur_libelle',\n",
    "    'date_creation', 'forme_juridique', 'effectif',\n",
    "    'adresse', 'code_postal', 'ville', 'region'\n",
    "][:len(df_sql.columns)]\n",
    "\n",
    "\n"
   ]
  },
  {
   "cell_type": "code",
   "execution_count": null,
   "id": "ea77ae93",
   "metadata": {},
   "outputs": [],
   "source": []
  },
  {
   "cell_type": "code",
   "execution_count": null,
   "id": "26c0b71c",
   "metadata": {},
   "outputs": [],
   "source": []
  },
  {
   "cell_type": "code",
   "execution_count": 22,
   "id": "30aa4b07",
   "metadata": {},
   "outputs": [
    {
     "name": "stdout",
     "output_type": "stream",
     "text": [
      "Nombre d'entreprises récupérées : 10\n"
     ]
    }
   ],
   "source": [
    "import requests\n",
    "import pandas as pd\n",
    "\n",
    "api_url = \"https://api.insee.fr/api-sirene/3.11/siret\"\n",
    "api_key = \"2c6da094-b893-415a-ada0-94b893115aea\"\n",
    "\n",
    "headers = {\"X-INSEE-Api-Key-Integration\": api_key}\n",
    "\n",
    "# Correct syntaxe Lucene pour q\n",
    "params = {\n",
    "    \"q\": \"codePostalEtablissement:13100\",  # Aix\n",
    "    \"nombre\": 10\n",
    "}\n",
    "\n",
    "response = requests.get(api_url, headers=headers, params=params)\n",
    "\n",
    "if response.status_code == 200:\n",
    "    data = response.json()\n",
    "    print(\"Nombre d'entreprises récupérées :\", len(data.get('etablissements', [])))\n",
    "else:\n",
    "    print(\"Erreur API :\", response.status_code, response.text)\n"
   ]
  },
  {
   "cell_type": "code",
   "execution_count": null,
   "id": "f4be5136",
   "metadata": {},
   "outputs": [],
   "source": [
    "print()"
   ]
  },
  {
   "cell_type": "code",
   "execution_count": null,
   "id": "8ef64979",
   "metadata": {},
   "outputs": [],
   "source": []
  },
  {
   "cell_type": "code",
   "execution_count": null,
   "id": "4a4a1c1f",
   "metadata": {},
   "outputs": [],
   "source": []
  },
  {
   "cell_type": "code",
   "execution_count": null,
   "id": "cf99a772",
   "metadata": {},
   "outputs": [],
   "source": []
  },
  {
   "cell_type": "code",
   "execution_count": null,
   "id": "6797c8e0",
   "metadata": {},
   "outputs": [],
   "source": []
  },
  {
   "cell_type": "code",
   "execution_count": null,
   "id": "3843cd87",
   "metadata": {},
   "outputs": [],
   "source": []
  },
  {
   "cell_type": "code",
   "execution_count": null,
   "id": "ffb6ec11",
   "metadata": {},
   "outputs": [],
   "source": []
  },
  {
   "cell_type": "code",
   "execution_count": null,
   "id": "6efed63e",
   "metadata": {},
   "outputs": [],
   "source": []
  },
  {
   "cell_type": "code",
   "execution_count": null,
   "id": "16f6330c",
   "metadata": {},
   "outputs": [],
   "source": []
  },
  {
   "cell_type": "code",
   "execution_count": null,
   "id": "38f5c7d1",
   "metadata": {},
   "outputs": [],
   "source": []
  },
  {
   "cell_type": "code",
   "execution_count": null,
   "id": "30194e25",
   "metadata": {},
   "outputs": [],
   "source": []
  },
  {
   "cell_type": "code",
   "execution_count": null,
   "id": "ee034603",
   "metadata": {},
   "outputs": [],
   "source": []
  },
  {
   "cell_type": "code",
   "execution_count": null,
   "id": "bd84d87a",
   "metadata": {},
   "outputs": [],
   "source": []
  },
  {
   "cell_type": "code",
   "execution_count": null,
   "id": "4413e272",
   "metadata": {},
   "outputs": [],
   "source": []
  },
  {
   "cell_type": "code",
   "execution_count": null,
   "id": "7abb4f09",
   "metadata": {},
   "outputs": [],
   "source": []
  }
 ],
 "metadata": {
  "kernelspec": {
   "display_name": "data",
   "language": "python",
   "name": "python3"
  },
  "language_info": {
   "codemirror_mode": {
    "name": "ipython",
    "version": 3
   },
   "file_extension": ".py",
   "mimetype": "text/x-python",
   "name": "python",
   "nbconvert_exporter": "python",
   "pygments_lexer": "ipython3",
   "version": "3.12.9"
  }
 },
 "nbformat": 4,
 "nbformat_minor": 5
}
